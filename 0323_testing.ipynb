{
  "nbformat": 4,
  "nbformat_minor": 0,
  "metadata": {
    "colab": {
      "name": "0323-testing.ipynb",
      "provenance": [],
      "authorship_tag": "ABX9TyP/jWS19FepaflXIUS4QDYf",
      "include_colab_link": true
    },
    "kernelspec": {
      "name": "python3",
      "display_name": "Python 3"
    },
    "language_info": {
      "name": "python"
    }
  },
  "cells": [
    {
      "cell_type": "markdown",
      "metadata": {
        "id": "view-in-github",
        "colab_type": "text"
      },
      "source": [
        "<a href=\"https://colab.research.google.com/github/domglov/github-pages-with-jekyll/blob/master/0323_testing.ipynb\" target=\"_parent\"><img src=\"https://colab.research.google.com/assets/colab-badge.svg\" alt=\"Open In Colab\"/></a>"
      ]
    },
    {
      "cell_type": "code",
      "source": [
        "import requests\n",
        "from bs4 import BeautifulSoup"
      ],
      "metadata": {
        "id": "stA5UjtU_WXk"
      },
      "execution_count": null,
      "outputs": []
    },
    {
      "cell_type": "code",
      "execution_count": null,
      "metadata": {
        "id": "tNPxssHb9GSW"
      },
      "outputs": [],
      "source": [
        "URL = \"https://www.gearpatrol.com/home/g39505090/best-desks/\"\n",
        "page = requests.get(URL)"
      ]
    },
    {
      "cell_type": "code",
      "source": [
        "soup = BeautifulSoup(page.content, \"html.parser\")\n",
        "print(soup.prettify)"
      ],
      "metadata": {
        "id": "0tlzVIri_cH9"
      },
      "execution_count": null,
      "outputs": []
    },
    {
      "cell_type": "code",
      "source": [
        "list(soup.children)\n",
        "[type(item) for item in list(soup.children)]\n",
        "html = list(soup.children)[3]\n",
        "list(html.children)"
      ],
      "metadata": {
        "id": "pUZtEH9HBmHJ"
      },
      "execution_count": null,
      "outputs": []
    },
    {
      "cell_type": "code",
      "source": [
        "body = list(html.children)[3]\n",
        "print(body)"
      ],
      "metadata": {
        "id": "Az1AXF4_DjX7"
      },
      "execution_count": null,
      "outputs": []
    },
    {
      "cell_type": "code",
      "source": [
        "headers = soup.find_all('span', class_='listicle-slide-hed-text')\n",
        "button_text = soup.find_all('span',class_='product-btn-link-text')\n",
        "\n",
        "\n",
        "titles = [titles.get_text() for titles in headers]\n",
        "print(titles)\n",
        "\n",
        "buttons = [butts.get_text()for butts in button_text]\n",
        "print(buttons)"
      ],
      "metadata": {
        "colab": {
          "base_uri": "https://localhost:8080/"
        },
        "id": "9dBfOfvGENcb",
        "outputId": "981e31d2-167a-4f32-82e6-a24510e18ebd"
      },
      "execution_count": null,
      "outputs": [
        {
          "output_type": "stream",
          "name": "stdout",
          "text": [
            "['The 15 Best Desks for Small Spaces', 'Wade Logan Valerie Floating Desk', 'CB2 Helix Walnut Desk', 'West Elm Industrial Storage Mini Desk', 'The 11 Best Standing Desks for the Home or Office', 'Fully Jarvis Bamboo Standing Desk', 'Humanscale Float', 'Seville Classics AirLift Tempered Glass Standing Desk', '15 Good-Looking Cheap Desks You Can Buy Online Right Now', 'Haotian Drop-Leaf Desk', 'Urban Outfitters Metal Tubing Desk', 'Mainstays Side Storage Desk', 'The Best-Looking Desks to Deck Out Your Home Office', 'Floyd The Table', 'Blu Dot Stash Desk', 'Herman Miller Airia Desk', 'The 21 Best Office Chairs of 2022']\n",
            "[' \\n\\n', '$132 AT WAYFAIR', ' \\n\\n', '$299 AT CB2', ' \\n\\n', '$439 AT WEST ELM', ' \\n\\n', '$599 AT FULLY.COM', ' \\n\\n', '$1,923 AT HUMANSCALE.COM', ' \\n\\n', '$400 AT AMAZON', ' \\n\\n', '$79 AT AMAZON', ' \\n\\n', '$199 AT URBAN OUTFITTERS', ' \\n\\n', '$39 AT WALMART', ' \\n\\n', '$625 AT FLOYD', ' \\n\\n', '$650 AT BLUDOT.COM', ' \\n\\n', '$2,995 AT HERMANMILLER.COM']\n"
          ]
        }
      ]
    },
    {
      "cell_type": "code",
      "source": [
        "import pandas as pd\n",
        "data = pd.DataFrame({\n",
        "    \"buttons\": buttons\n",
        "})\n",
        "\n",
        "data"
      ],
      "metadata": {
        "colab": {
          "base_uri": "https://localhost:8080/",
          "height": 802
        },
        "id": "ucMg2BTtKOBV",
        "outputId": "de477098-f222-4426-eb0e-0785f0529a95"
      },
      "execution_count": null,
      "outputs": [
        {
          "output_type": "execute_result",
          "data": {
            "text/plain": [
              "                       buttons\n",
              "0                         \\n\\n\n",
              "1              $132 AT WAYFAIR\n",
              "2                         \\n\\n\n",
              "3                  $299 AT CB2\n",
              "4                         \\n\\n\n",
              "5             $439 AT WEST ELM\n",
              "6                         \\n\\n\n",
              "7            $599 AT FULLY.COM\n",
              "8                         \\n\\n\n",
              "9     $1,923 AT HUMANSCALE.COM\n",
              "10                        \\n\\n\n",
              "11              $400 AT AMAZON\n",
              "12                        \\n\\n\n",
              "13               $79 AT AMAZON\n",
              "14                        \\n\\n\n",
              "15    $199 AT URBAN OUTFITTERS\n",
              "16                        \\n\\n\n",
              "17              $39 AT WALMART\n",
              "18                        \\n\\n\n",
              "19               $625 AT FLOYD\n",
              "20                        \\n\\n\n",
              "21          $650 AT BLUDOT.COM\n",
              "22                        \\n\\n\n",
              "23  $2,995 AT HERMANMILLER.COM"
            ],
            "text/html": [
              "\n",
              "  <div id=\"df-ee883c96-52f8-46c1-bf01-ea90822a9768\">\n",
              "    <div class=\"colab-df-container\">\n",
              "      <div>\n",
              "<style scoped>\n",
              "    .dataframe tbody tr th:only-of-type {\n",
              "        vertical-align: middle;\n",
              "    }\n",
              "\n",
              "    .dataframe tbody tr th {\n",
              "        vertical-align: top;\n",
              "    }\n",
              "\n",
              "    .dataframe thead th {\n",
              "        text-align: right;\n",
              "    }\n",
              "</style>\n",
              "<table border=\"1\" class=\"dataframe\">\n",
              "  <thead>\n",
              "    <tr style=\"text-align: right;\">\n",
              "      <th></th>\n",
              "      <th>buttons</th>\n",
              "    </tr>\n",
              "  </thead>\n",
              "  <tbody>\n",
              "    <tr>\n",
              "      <th>0</th>\n",
              "      <td>\\n\\n</td>\n",
              "    </tr>\n",
              "    <tr>\n",
              "      <th>1</th>\n",
              "      <td>$132 AT WAYFAIR</td>\n",
              "    </tr>\n",
              "    <tr>\n",
              "      <th>2</th>\n",
              "      <td>\\n\\n</td>\n",
              "    </tr>\n",
              "    <tr>\n",
              "      <th>3</th>\n",
              "      <td>$299 AT CB2</td>\n",
              "    </tr>\n",
              "    <tr>\n",
              "      <th>4</th>\n",
              "      <td>\\n\\n</td>\n",
              "    </tr>\n",
              "    <tr>\n",
              "      <th>5</th>\n",
              "      <td>$439 AT WEST ELM</td>\n",
              "    </tr>\n",
              "    <tr>\n",
              "      <th>6</th>\n",
              "      <td>\\n\\n</td>\n",
              "    </tr>\n",
              "    <tr>\n",
              "      <th>7</th>\n",
              "      <td>$599 AT FULLY.COM</td>\n",
              "    </tr>\n",
              "    <tr>\n",
              "      <th>8</th>\n",
              "      <td>\\n\\n</td>\n",
              "    </tr>\n",
              "    <tr>\n",
              "      <th>9</th>\n",
              "      <td>$1,923 AT HUMANSCALE.COM</td>\n",
              "    </tr>\n",
              "    <tr>\n",
              "      <th>10</th>\n",
              "      <td>\\n\\n</td>\n",
              "    </tr>\n",
              "    <tr>\n",
              "      <th>11</th>\n",
              "      <td>$400 AT AMAZON</td>\n",
              "    </tr>\n",
              "    <tr>\n",
              "      <th>12</th>\n",
              "      <td>\\n\\n</td>\n",
              "    </tr>\n",
              "    <tr>\n",
              "      <th>13</th>\n",
              "      <td>$79 AT AMAZON</td>\n",
              "    </tr>\n",
              "    <tr>\n",
              "      <th>14</th>\n",
              "      <td>\\n\\n</td>\n",
              "    </tr>\n",
              "    <tr>\n",
              "      <th>15</th>\n",
              "      <td>$199 AT URBAN OUTFITTERS</td>\n",
              "    </tr>\n",
              "    <tr>\n",
              "      <th>16</th>\n",
              "      <td>\\n\\n</td>\n",
              "    </tr>\n",
              "    <tr>\n",
              "      <th>17</th>\n",
              "      <td>$39 AT WALMART</td>\n",
              "    </tr>\n",
              "    <tr>\n",
              "      <th>18</th>\n",
              "      <td>\\n\\n</td>\n",
              "    </tr>\n",
              "    <tr>\n",
              "      <th>19</th>\n",
              "      <td>$625 AT FLOYD</td>\n",
              "    </tr>\n",
              "    <tr>\n",
              "      <th>20</th>\n",
              "      <td>\\n\\n</td>\n",
              "    </tr>\n",
              "    <tr>\n",
              "      <th>21</th>\n",
              "      <td>$650 AT BLUDOT.COM</td>\n",
              "    </tr>\n",
              "    <tr>\n",
              "      <th>22</th>\n",
              "      <td>\\n\\n</td>\n",
              "    </tr>\n",
              "    <tr>\n",
              "      <th>23</th>\n",
              "      <td>$2,995 AT HERMANMILLER.COM</td>\n",
              "    </tr>\n",
              "  </tbody>\n",
              "</table>\n",
              "</div>\n",
              "      <button class=\"colab-df-convert\" onclick=\"convertToInteractive('df-ee883c96-52f8-46c1-bf01-ea90822a9768')\"\n",
              "              title=\"Convert this dataframe to an interactive table.\"\n",
              "              style=\"display:none;\">\n",
              "        \n",
              "  <svg xmlns=\"http://www.w3.org/2000/svg\" height=\"24px\"viewBox=\"0 0 24 24\"\n",
              "       width=\"24px\">\n",
              "    <path d=\"M0 0h24v24H0V0z\" fill=\"none\"/>\n",
              "    <path d=\"M18.56 5.44l.94 2.06.94-2.06 2.06-.94-2.06-.94-.94-2.06-.94 2.06-2.06.94zm-11 1L8.5 8.5l.94-2.06 2.06-.94-2.06-.94L8.5 2.5l-.94 2.06-2.06.94zm10 10l.94 2.06.94-2.06 2.06-.94-2.06-.94-.94-2.06-.94 2.06-2.06.94z\"/><path d=\"M17.41 7.96l-1.37-1.37c-.4-.4-.92-.59-1.43-.59-.52 0-1.04.2-1.43.59L10.3 9.45l-7.72 7.72c-.78.78-.78 2.05 0 2.83L4 21.41c.39.39.9.59 1.41.59.51 0 1.02-.2 1.41-.59l7.78-7.78 2.81-2.81c.8-.78.8-2.07 0-2.86zM5.41 20L4 18.59l7.72-7.72 1.47 1.35L5.41 20z\"/>\n",
              "  </svg>\n",
              "      </button>\n",
              "      \n",
              "  <style>\n",
              "    .colab-df-container {\n",
              "      display:flex;\n",
              "      flex-wrap:wrap;\n",
              "      gap: 12px;\n",
              "    }\n",
              "\n",
              "    .colab-df-convert {\n",
              "      background-color: #E8F0FE;\n",
              "      border: none;\n",
              "      border-radius: 50%;\n",
              "      cursor: pointer;\n",
              "      display: none;\n",
              "      fill: #1967D2;\n",
              "      height: 32px;\n",
              "      padding: 0 0 0 0;\n",
              "      width: 32px;\n",
              "    }\n",
              "\n",
              "    .colab-df-convert:hover {\n",
              "      background-color: #E2EBFA;\n",
              "      box-shadow: 0px 1px 2px rgba(60, 64, 67, 0.3), 0px 1px 3px 1px rgba(60, 64, 67, 0.15);\n",
              "      fill: #174EA6;\n",
              "    }\n",
              "\n",
              "    [theme=dark] .colab-df-convert {\n",
              "      background-color: #3B4455;\n",
              "      fill: #D2E3FC;\n",
              "    }\n",
              "\n",
              "    [theme=dark] .colab-df-convert:hover {\n",
              "      background-color: #434B5C;\n",
              "      box-shadow: 0px 1px 3px 1px rgba(0, 0, 0, 0.15);\n",
              "      filter: drop-shadow(0px 1px 2px rgba(0, 0, 0, 0.3));\n",
              "      fill: #FFFFFF;\n",
              "    }\n",
              "  </style>\n",
              "\n",
              "      <script>\n",
              "        const buttonEl =\n",
              "          document.querySelector('#df-ee883c96-52f8-46c1-bf01-ea90822a9768 button.colab-df-convert');\n",
              "        buttonEl.style.display =\n",
              "          google.colab.kernel.accessAllowed ? 'block' : 'none';\n",
              "\n",
              "        async function convertToInteractive(key) {\n",
              "          const element = document.querySelector('#df-ee883c96-52f8-46c1-bf01-ea90822a9768');\n",
              "          const dataTable =\n",
              "            await google.colab.kernel.invokeFunction('convertToInteractive',\n",
              "                                                     [key], {});\n",
              "          if (!dataTable) return;\n",
              "\n",
              "          const docLinkHtml = 'Like what you see? Visit the ' +\n",
              "            '<a target=\"_blank\" href=https://colab.research.google.com/notebooks/data_table.ipynb>data table notebook</a>'\n",
              "            + ' to learn more about interactive tables.';\n",
              "          element.innerHTML = '';\n",
              "          dataTable['output_type'] = 'display_data';\n",
              "          await google.colab.output.renderOutput(dataTable, element);\n",
              "          const docLink = document.createElement('div');\n",
              "          docLink.innerHTML = docLinkHtml;\n",
              "          element.appendChild(docLink);\n",
              "        }\n",
              "      </script>\n",
              "    </div>\n",
              "  </div>\n",
              "  "
            ]
          },
          "metadata": {},
          "execution_count": 71
        }
      ]
    },
    {
      "cell_type": "code",
      "source": [
        "results = soup.find(id=\"content-container listicle-container\")\n",
        "print(results)"
      ],
      "metadata": {
        "colab": {
          "base_uri": "https://localhost:8080/"
        },
        "id": "MMbQMoQT_yw2",
        "outputId": "2506c904-3cff-4279-ace2-2bb0404d51a8"
      },
      "execution_count": null,
      "outputs": [
        {
          "output_type": "stream",
          "name": "stdout",
          "text": [
            "None\n"
          ]
        }
      ]
    },
    {
      "cell_type": "markdown",
      "source": [
        "\"product-btn-link-text\"\n",
        "\"product-buy-button-wrapper\"\n",
        "\"product-btn-link\"\n",
        "<source data-srcset=\"https://hips.hearstapps.com/vader-prod.s3.amazonaws.com/1647972982-Desk-Roundup-gear-patrol-CB2.jpg?crop=0.7692307692307693xw:1xh;center,top&amp;resize=768:*\" media=\"(min-width: 30rem)\" srcset=\"https://hips.hearstapps.com/vader-prod.s3.amazonaws.com/1647972982-Desk-Roundup-gear-patrol-CB2.jpg?crop=0.7692307692307693xw:1xh;center,top&amp;resize=768:*\">"
      ],
      "metadata": {
        "id": "2ADIZKeM-rkk"
      }
    }
  ]
}